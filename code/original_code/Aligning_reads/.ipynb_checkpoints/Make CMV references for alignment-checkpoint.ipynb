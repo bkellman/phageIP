{
 "cells": [
  {
   "cell_type": "code",
   "execution_count": 1,
   "metadata": {
    "collapsed": true
   },
   "outputs": [],
   "source": [
    "%matplotlib inline\n",
    "\n",
    "import re\n",
    "import sys\n",
    "import functools\n",
    "import collections\n",
    "\n",
    "import numpy as np\n",
    "import scipy as sp\n",
    "import scipy.stats\n",
    "import scipy.optimize\n",
    "import pandas as pd\n",
    "import matplotlib as mpl\n",
    "import matplotlib.pyplot as plt\n",
    "\n",
    "import gzip\n",
    "\n",
    "import Bio"
   ]
  },
  {
   "cell_type": "code",
   "execution_count": 2,
   "metadata": {
    "collapsed": true
   },
   "outputs": [],
   "source": [
    "## step 1: read in the file with the list of oligos (not including adaptors) and annotations\n",
    "\n",
    "\n",
    "#cmv_annotations = pd.read_excel('chip libraries.xlsx', sheetname = 'CMV T cell', index_col=0)\n",
    "K_L_ep_mut_lib_annotations = pd.read_csv('2017.11.26 ellen_library_new_final.csv', index_col=0)"
   ]
  },
  {
   "cell_type": "code",
   "execution_count": 8,
   "metadata": {
    "collapsed": true
   },
   "outputs": [],
   "source": [
    "##step 2: trim to only include first 50 nt because peptides in the library are designed to be at least 2 nt distinct in the first 42 nt\n",
    "\n",
    "K_L_ep_mut_lib_annotations['ref_50'] = K_L_ep_mut_lib_annotations['nt_seq_with_adaptors'].str[15:66]"
   ]
  },
  {
   "cell_type": "code",
   "execution_count": 9,
   "metadata": {
    "collapsed": true
   },
   "outputs": [],
   "source": [
    "## step 3: this is the code to actually convert the .csv file to .fasta\n",
    "with open('K_L_ep_mut_lib_ref_50.fasta', 'w') as f:\n",
    "    for name, seq in K_L_ep_mut_lib_annotations['ref_50'].iteritems():\n",
    "        f.write(\">{}\\n{}\\n\".format(name, seq))"
   ]
  },
  {
   "cell_type": "code",
   "execution_count": 18,
   "metadata": {
    "collapsed": true
   },
   "outputs": [],
   "source": [
    "from Bio import SeqIO\n",
    "with open('CTL_mut_V2_lib_ref_168.fasta', 'w') as f:\n",
    "    for name, seq in ctlv2_annotations['sequence'].iteritems():\n",
    "        f.write(\">{}\\n{}\\n\".format(name, seq))"
   ]
  },
  {
   "cell_type": "code",
   "execution_count": 16,
   "metadata": {
    "collapsed": true
   },
   "outputs": [],
   "source": [
    "from Bio import SeqIO\n",
    "with open('CMV_lib_ref_50.fasta', 'w') as f:\n",
    "    for name, seq in cmv_annotations['ref_50'].iteritems():\n",
    "        f.write(\">{}\\n{}\\n\".format(name, seq))"
   ]
  },
  {
   "cell_type": "code",
   "execution_count": 19,
   "metadata": {
    "collapsed": true
   },
   "outputs": [],
   "source": [
    "from Bio import SeqIO\n",
    "with open('CTL_mut_V2_lib_ref_50.fasta', 'w') as f:\n",
    "    for name, seq in ctlv2_annotations['ref_50'].iteritems():\n",
    "        f.write(\">{}\\n{}\\n\".format(name, seq))"
   ]
  },
  {
   "cell_type": "code",
   "execution_count": null,
   "metadata": {
    "collapsed": true
   },
   "outputs": [],
   "source": []
  }
 ],
 "metadata": {
  "kernelspec": {
   "display_name": "Python 3",
   "language": "python",
   "name": "python3"
  },
  "language_info": {
   "codemirror_mode": {
    "name": "ipython",
    "version": 3
   },
   "file_extension": ".py",
   "mimetype": "text/x-python",
   "name": "python",
   "nbconvert_exporter": "python",
   "pygments_lexer": "ipython3",
   "version": "3.6.1"
  }
 },
 "nbformat": 4,
 "nbformat_minor": 1
}
